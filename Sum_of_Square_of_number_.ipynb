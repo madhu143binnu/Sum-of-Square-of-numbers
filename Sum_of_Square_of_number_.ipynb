{
  "nbformat": 4,
  "nbformat_minor": 0,
  "metadata": {
    "colab": {
      "provenance": [],
      "authorship_tag": "ABX9TyNRrhqmJpWCLLPPZHTfjxxE",
      "include_colab_link": true
    },
    "kernelspec": {
      "name": "python3",
      "display_name": "Python 3"
    },
    "language_info": {
      "name": "python"
    }
  },
  "cells": [
    {
      "cell_type": "markdown",
      "metadata": {
        "id": "view-in-github",
        "colab_type": "text"
      },
      "source": [
        "<a href=\"https://colab.research.google.com/github/madhu143binnu/Sum-of-Square-of-numbers/blob/main/Sum_of_Square_of_number_.ipynb\" target=\"_parent\"><img src=\"https://colab.research.google.com/assets/colab-badge.svg\" alt=\"Open In Colab\"/></a>"
      ]
    },
    {
      "cell_type": "code",
      "execution_count": 1,
      "metadata": {
        "colab": {
          "base_uri": "https://localhost:8080/"
        },
        "id": "LxFYDCdKaB0E",
        "outputId": "75cbb5fd-7d35-4824-b187-28b4bceb6fe7"
      },
      "outputs": [
        {
          "output_type": "stream",
          "name": "stdout",
          "text": [
            "Sum of square value :  35\n"
          ]
        }
      ],
      "source": [
        "class Point:\n",
        "    def __init__(self,x,y,z):\n",
        "        self.x = x\n",
        "        self.y = y\n",
        "        self.z = z\n",
        "    def sqSum(self):\n",
        "        return self.x**2 + self.y**2 + self.z**2\n",
        "value = Point(1,3,5)\n",
        "finalValue = value.sqSum()\n",
        "print(\"Sum of square value : \", finalValue)\n"
      ]
    }
  ]
}